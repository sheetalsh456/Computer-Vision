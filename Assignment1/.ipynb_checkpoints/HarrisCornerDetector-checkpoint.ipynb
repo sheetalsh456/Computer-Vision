{
 "cells": [
  {
   "cell_type": "code",
   "execution_count": 22,
   "metadata": {},
   "outputs": [],
   "source": [
    "import cv2\n",
    "import matplotlib.pyplot as plt\n",
    "import matplotlib.image as mpimg\n",
    "import numpy as np\n",
    "from scipy import ndimage\n",
    "import math\n",
    "from scipy.misc import imsave\n",
    "import sys"
   ]
  },
  {
   "cell_type": "code",
   "execution_count": 23,
   "metadata": {},
   "outputs": [
    {
     "data": {
      "text/plain": [
       "<matplotlib.image.AxesImage at 0x7f9ca8dfa898>"
      ]
     },
     "execution_count": 23,
     "metadata": {},
     "output_type": "execute_result"
    },
    {
     "data": {
      "image/png": "[encoded data removed]",
      "text/plain": [
       "<matplotlib.figure.Figure at 0x7f9ca8e707f0>"
      ]
     },
     "metadata": {},
     "output_type": "display_data"
    }
   ],
   "source": [
    "img = cv2.imread('11.png', 0)\n",
    "plt.imshow(img, cmap = 'gray')"
   ]
  },
  {
   "cell_type": "code",
   "execution_count": 24,
   "metadata": {},
   "outputs": [
    {
     "data": {
      "text/plain": [
       "<matplotlib.image.AxesImage at 0x7f9ca0fd8e48>"
      ]
     },
     "execution_count": 24,
     "metadata": {},
     "output_type": "execute_result"
    },
    {
     "data": {
      "image/png": "[encoded data removed]",
      "text/plain": [
       "<matplotlib.figure.Figure at 0x7f9ca8ec49e8>"
      ]
     },
     "metadata": {},
     "output_type": "display_data"
    }
   ],
   "source": [
    "img = cv2.GaussianBlur(img,(3,3),0)\n",
    "plt.imshow(img, cmap = 'gray')"
   ]
  },
  {
   "cell_type": "code",
   "execution_count": 36,
   "metadata": {},
   "outputs": [],
   "source": [
    "#Harris Detector free parameter\n",
    "k = 5\n",
    "#Threshold fraction\n",
    "tf = 0.1\n",
    "#Gaussian Window Size\n",
    "window_size = 5\n",
    "\n",
    "#Use sobel operator to calculate dx and dy\n",
    "dx = cv2.Sobel(img,cv2.CV_64F,1,0,ksize = 5)\n",
    "dy = cv2.Sobel(img,cv2.CV_64F,0,1,ksize = 5)\n",
    "\n",
    "Ixx = dx**2\n",
    "Iyy = dy**2\n",
    "Ixy = dx*dy\n",
    "\n",
    "x, y = img.shape\n",
    "offset = int(window_size / 2)\n",
    "\n",
    "def getGaussianKernel(window_size, sigma):\n",
    "    offset = int(window_size / 2)\n",
    "    gaussian_weights = np.zeros((window_size, window_size))\n",
    "    for i in range(-offset, offset + 1):\n",
    "        for j in range(-offset, offset + 1):\n",
    "            gaussian_weights[i + offset][j + offset] = np.exp(-(i**2 + j**2) / (2 * sigma**2)) / (2 * np.pi * sigma**2)\n",
    "    #Normalizing the gaussian kernel\n",
    "    gaussian_weights = gaussian_weights / np.sum(gaussian_weights)\n",
    "    return gaussian_weights\n",
    "    \n",
    "gaussian_weights = getGaussianKernel(window_size, 1) #1 is the standard deviation\n",
    "\n",
    "corners = []\n",
    "\n",
    "for i in range(offset, x - offset):\n",
    "    for j in range(offset, y - offset):\n",
    "        \n",
    "        #Getting size of gradient matrices as the window_size \n",
    "        Ixx_window = Ixx[i-offset : i+offset+1, j-offset : j+offset+1]\n",
    "        Iyy_window = Iyy[i-offset : i+offset+1, j-offset : j+offset+1]\n",
    "        Ixy_window = Ixy[i-offset : i+offset+1, j-offset : j+offset+1]\n",
    "        \n",
    "        #Calculating weighted gradient matrices\n",
    "        Ixx_weights = Ixx_window * gaussian_weights\n",
    "        Iyy_weights = Iyy_window * gaussian_weights\n",
    "        Ixy_weights = Ixy_window * gaussian_weights\n",
    "        \n",
    "        #Summing up the weights\n",
    "        sum_xx = np.sum(Ixx_weights)\n",
    "        sum_yy = np.sum(Iyy_weights)\n",
    "        sum_xy = np.sum(Ixy_weights)\n",
    "        \n",
    "        #Calculating determinant\n",
    "        det = (sum_xx * sum_yy) - (sum_xy**2)\n",
    "        #Calculating trace\n",
    "        trace = sum_xx + sum_yy\n",
    "        R = det - k*(trace**2)\n",
    "        corners.append([i,j,R])\n"
   ]
  },
  {
   "cell_type": "code",
   "execution_count": 37,
   "metadata": {},
   "outputs": [
    {
     "data": {
      "text/plain": [
       "<matplotlib.image.AxesImage at 0x7f9ca3e10710>"
      ]
     },
     "execution_count": 37,
     "metadata": {},
     "output_type": "execute_result"
    },
    {
     "data": {
      "image/png": "[encoded data removed]",
      "text/plain": [
       "<matplotlib.figure.Figure at 0x7f9ca8d7ba58>"
      ]
     },
     "metadata": {},
     "output_type": "display_data"
    }
   ],
   "source": [
    "corners = np.array(corners)\n",
    "max_cornerVal = np.max(corners[:,2])\n",
    "threshold = tf * max_cornerVal\n",
    "new_img = img.copy()\n",
    "color_img = cv2.cvtColor(new_img, cv2.COLOR_GRAY2RGB)\n",
    "\n",
    "cnt = 0\n",
    "for i in range(offset, x - offset):\n",
    "    for j in range(offset, y - offset):\n",
    "        if (corners[cnt][2] > threshold):\n",
    "            color_img.itemset((i,j,0), 255)\n",
    "            color_img.itemset((i,j,1), 0)\n",
    "            color_img.itemset((i,j,2), 0)\n",
    "        cnt = cnt + 1\n",
    "\n",
    "plt.imshow(color_img)"
   ]
  },
  {
   "cell_type": "code",
   "execution_count": 32,
   "metadata": {},
   "outputs": [],
   "source": [
    "imsave(\"corner_image.png\", color_img)"
   ]
  },
  {
   "cell_type": "code",
   "execution_count": null,
   "metadata": {},
   "outputs": [],
   "source": []
  }
 ],
 "metadata": {
  "kernelspec": {
   "display_name": "Python 3",
   "language": "python",
   "name": "python3"
  },
  "language_info": {
   "codemirror_mode": {
    "name": "ipython",
    "version": 3
   },
   "file_extension": ".py",
   "mimetype": "text/x-python",
   "name": "python",
   "nbconvert_exporter": "python",
   "pygments_lexer": "ipython3",
   "version": "3.5.2"
  }
 },
 "nbformat": 4,
 "nbformat_minor": 2
}
